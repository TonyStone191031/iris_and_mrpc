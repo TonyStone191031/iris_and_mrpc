{
 "cells": [
  {
   "cell_type": "code",
   "execution_count": 1,
   "id": "9e4f0274-6da4-414b-af3f-514f86e9a060",
   "metadata": {},
   "outputs": [],
   "source": [
    "import pandas as pd\n",
    "import numpy as np\n",
    "from sklearn.model_selection import train_test_split\n",
    "from sklearn.ensemble import RandomForestClassifier\n",
    "from sklearn.metrics import accuracy_score, classification_report, roc_curve, auc\n",
    "from sklearn.impute import SimpleImputer\n",
    "from sklearn.preprocessing import StandardScaler, LabelEncoder\n",
    "from sklearn.svm import SVC\n",
    "import matplotlib.pyplot as plt"
   ]
  },
  {
   "cell_type": "markdown",
   "id": "083013f5-c47c-4f60-8174-10b3512febfa",
   "metadata": {},
   "source": [
    "# 加载并清洗数据"
   ]
  },
  {
   "cell_type": "code",
   "execution_count": 2,
   "id": "5759154c-f68b-4704-bd19-1b75db155bcb",
   "metadata": {},
   "outputs": [],
   "source": [
    "# 1. 数据预处理\n",
    "# 加载训练数据集（假设训练数据集文件名为 iris_train.csv）\n",
    "train_df = pd.read_csv('./data/iris_train.csv')\n",
    "\n",
    "# 数据清洗：检查缺失值和异常值\n",
    "# 鸢尾花数据集通常没有缺失值和异常值，这里仅作为示例\n",
    "train_df_cleaned = train_df.dropna()  # 删除缺失值\n",
    "\n",
    "# 特征选择：选择所有特征\n",
    "X_train = train_df_cleaned.drop(columns=['Species'])  # 标签列名为 'species'\n",
    "y_train = train_df_cleaned['Species']\n",
    "\n",
    "# 数据标准化/归一化\n",
    "scaler = StandardScaler()\n",
    "X_train_scaled = scaler.fit_transform(X_train)\n"
   ]
  },
  {
   "cell_type": "markdown",
   "id": "991b92e5-a343-4d8f-afdb-a7b5cadbe3a2",
   "metadata": {},
   "source": [
    "# 保存清洗后的训练数据到指定文件 "
   ]
  },
  {
   "cell_type": "code",
   "execution_count": 3,
   "id": "ae9efa68-743e-48e0-b0ed-b94ea6fcc3a5",
   "metadata": {},
   "outputs": [],
   "source": [
    "\n",
    "preprocessed_train_data = pd.concat([pd.DataFrame(X_train_scaled, columns=X_train.columns), pd.Series(y_train, name='species')], axis=1)\n",
    "preprocessed_train_data.to_csv('./output/cleaned_train_data.csv', index=False)\n"
   ]
  },
  {
   "cell_type": "markdown",
   "id": "fff9fe6f-26c8-499a-bc71-d36fdad65e61",
   "metadata": {},
   "source": [
    "# 模型训练\n",
    "> 数据分类在数据挖掘中是一种常见场景，您可以尝试使用不同建模方式(决策树模型,随机森林，SVC。。。。。。)"
   ]
  },
  {
   "cell_type": "code",
   "execution_count": 4,
   "id": "f2fd9812-687a-41c9-9850-2c09999ab26f",
   "metadata": {},
   "outputs": [
    {
     "name": "stdout",
     "output_type": "stream",
     "text": [
      "每个类的支持向量数量:\n",
      "[ 4 12 12]\n"
     ]
    }
   ],
   "source": [
    "# 2. 建模及模型训练\n",
    "# 选择模型：支持向量机（SVM）\n",
    "model = SVC(kernel='linear', random_state=42)\n",
    "\n",
    "# 模型训练\n",
    "model.fit(X_train_scaled, y_train)\n",
    "\n",
    "#print(\"支持向量:\")\n",
    "#print(model.support_vectors_)\n",
    "\n",
    "# 打印截距\n",
    "#print(\"截距:\")\n",
    "#print(model.intercept_)\n",
    "\n",
    "# 打印支持向量的索引\n",
    "#print(\"支持向量的索引:\")\n",
    "#print(model.support_)\n",
    "\n",
    "# 打印每个类的支持向量数量\n",
    "print(\"每个类的支持向量数量:\")\n",
    "print(model.n_support_)"
   ]
  },
  {
   "cell_type": "code",
   "execution_count": 5,
   "id": "c64ef7bd-6bc8-4856-98bd-427e9bf9ac7b",
   "metadata": {},
   "outputs": [
    {
     "name": "stdout",
     "output_type": "stream",
     "text": [
      "训练集准确率: 0.98\n"
     ]
    }
   ],
   "source": [
    "# 计算训练集上的准确率\n",
    "train_accuracy = model.score(X_train_scaled, y_train)\n",
    "print(f\"训练集准确率: {train_accuracy:.2f}\")"
   ]
  },
  {
   "cell_type": "code",
   "execution_count": 6,
   "id": "cff65f8e-3806-4d00-ac88-ebe6203a916c",
   "metadata": {},
   "outputs": [],
   "source": [
    "# 3. 模型推理\n",
    "# 加载验证数据集（假设验证数据集文件名为 iris_val.csv）\n",
    "val_df = pd.read_csv('./data/iris_test.csv')\n",
    "\n",
    "# 数据清洗：检查缺失值和异常值\n",
    "val_df_cleaned = val_df.dropna()  # 删除缺失值\n",
    "\n",
    "# 特征选择：选择所有特征\n",
    "X_val = val_df_cleaned.drop(columns=['Species'])  # 标签列名为 'species'\n",
    "\n",
    "# 数据标准化/归一化\n",
    "X_val_scaled = scaler.transform(X_val)\n",
    "\n",
    "# 模型推理\n",
    "y_pred = model.predict(X_val_scaled)"
   ]
  },
  {
   "cell_type": "markdown",
   "id": "445db620-2919-4523-a271-dee6375f5a5e",
   "metadata": {},
   "source": [
    "# 保存推理结果到指定目录(确保文件名，字段名正确)"
   ]
  },
  {
   "cell_type": "code",
   "execution_count": 7,
   "id": "3013b92d-65f3-494e-8654-b43ffb544775",
   "metadata": {},
   "outputs": [],
   "source": [
    "# 保存推理结果\n",
    "results = pd.DataFrame({'Sample_ID': range(len(y_pred)), 'Predicted_Species': y_pred})\n",
    "results.to_csv('./output/test_data_predictions.csv', index=False)"
   ]
  },
  {
   "cell_type": "markdown",
   "id": "69f8946d-5f85-45e0-995f-9d3df729a727",
   "metadata": {},
   "source": [
    "# 试试检查您训练的结果\n",
    "> 真实竞赛中会根据模型准确率评分，所以提供的推理数据不会包含标签列验证,您竞赛中不需要完成下面步骤"
   ]
  },
  {
   "cell_type": "code",
   "execution_count": 8,
   "id": "3185a94b-570c-458a-b47a-b301d7383564",
   "metadata": {},
   "outputs": [
    {
     "name": "stdout",
     "output_type": "stream",
     "text": [
      "模型准确率: 0.97\n",
      "分类报告:\n",
      "              precision    recall  f1-score   support\n",
      "\n",
      "      setosa       1.00      1.00      1.00        10\n",
      "  versicolor       0.92      1.00      0.96        11\n",
      "   virginica       1.00      0.89      0.94         9\n",
      "\n",
      "    accuracy                           0.97        30\n",
      "   macro avg       0.97      0.96      0.97        30\n",
      "weighted avg       0.97      0.97      0.97        30\n",
      "\n"
     ]
    }
   ],
   "source": [
    "val_df_cleaned['pred']=y_pred\n",
    "val_df_cleaned[['Species','pred']]\n",
    "# 提取验证集的真实标签和预测结果\n",
    "y_true = val_df_cleaned['Species']\n",
    "y_pred = val_df_cleaned['pred']\n",
    "# 评估模型\n",
    "accuracy = accuracy_score(y_true, y_pred)\n",
    "print(f\"模型准确率: {accuracy:.2f}\")\n",
    "print(\"分类报告:\")\n",
    "print(classification_report(y_true, y_pred))"
   ]
  },
  {
   "cell_type": "markdown",
   "id": "c815ac90-96e9-4290-b451-d040badb9ca4",
   "metadata": {},
   "source": [
    "# <font color=\"red\">最后您需要将这个notebook保存到output目录(可以通过左边的文件管理栏,或文件菜单中的另存为)，供评分使用<font color=\"red\">"
   ]
  },
  {
   "cell_type": "code",
   "execution_count": null,
   "id": "13ae9962-988c-4de4-9de7-9198ed5adcc6",
   "metadata": {},
   "outputs": [],
   "source": []
  }
 ],
 "metadata": {
  "kernelspec": {
   "display_name": "Python 3 (ipykernel)",
   "language": "python",
   "name": "python3"
  },
  "language_info": {
   "codemirror_mode": {
    "name": "ipython",
    "version": 3
   },
   "file_extension": ".py",
   "mimetype": "text/x-python",
   "name": "python",
   "nbconvert_exporter": "python",
   "pygments_lexer": "ipython3",
   "version": "3.10.13"
  }
 },
 "nbformat": 4,
 "nbformat_minor": 5
}
