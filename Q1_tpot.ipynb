{
 "cells": [
  {
   "cell_type": "code",
   "execution_count": 5,
   "metadata": {},
   "outputs": [
    {
     "name": "stdout",
     "output_type": "stream",
     "text": [
      "                                                                            \n",
      "Generation 1 - Current best internal CV score: 0.95\n",
      "                                                                            \n",
      "Generation 2 - Current best internal CV score: 0.9583333333333334\n",
      "                                                                            \n",
      "Generation 3 - Current best internal CV score: 0.9583333333333334\n",
      "                                                                            \n",
      "Generation 4 - Current best internal CV score: 0.9583333333333334\n",
      "                                                                            \n",
      "Generation 5 - Current best internal CV score: 0.9583333333333334\n",
      "                                                                            \n",
      "Best pipeline: ExtraTreesClassifier(input_matrix, bootstrap=False, criterion=entropy, max_features=0.8, min_samples_leaf=19, min_samples_split=9, n_estimators=100)\n",
      "Best model found by TPOT:\n",
      "Pipeline(steps=[('extratreesclassifier',\n",
      "                 ExtraTreesClassifier(criterion='entropy', max_features=0.8,\n",
      "                                      min_samples_leaf=19, min_samples_split=9,\n",
      "                                      random_state=42))])\n",
      "Accuracy on the test set: 0.9667\n",
      "Predictions on the test set:\n",
      "      Species predicted_species\n",
      "0  versicolor        versicolor\n",
      "1      setosa            setosa\n",
      "2  versicolor        versicolor\n",
      "3   virginica         virginica\n",
      "4   virginica         virginica\n"
     ]
    }
   ],
   "source": [
    "import pandas as pd\n",
    "from tpot import TPOTClassifier\n",
    "from sklearn.model_selection import train_test_split\n",
    "from sklearn.metrics import accuracy_score\n",
    "\n",
    "# 加载训练数据\n",
    "train_df = pd.read_csv('./data/iris_train.csv')\n",
    "\n",
    "# 指定目标列\n",
    "y = 'Species'  # 假设标签列名为 'Species'\n",
    "X_train = train_df.drop(columns=[y])\n",
    "y_train = train_df[y]\n",
    "\n",
    "# 加载测试数据\n",
    "test_df = pd.read_csv('./data/iris_test.csv')\n",
    "\n",
    "# 指定目标列\n",
    "X_test = test_df.drop(columns=[y])\n",
    "y_test = test_df[y]  # 假设测试数据也包含标签\n",
    "\n",
    "# 创建 TPOT 分类器\n",
    "tpot = TPOTClassifier(generations=5,  # 设置遗传算法的代数\n",
    "                      population_size=10,  # 设置每一代的个体数量\n",
    "                      verbosity=2,  # 设置输出详细程度\n",
    "                      random_state=42,  # 设置随机种子\n",
    "                      scoring='accuracy',  # 选择评估指标\n",
    "                      n_jobs=-1)  # 使用所有可用的 CPU 核心\n",
    "\n",
    "# 训练 TPOT 模型\n",
    "tpot.fit(X_train, y_train)\n",
    "\n",
    "# 查看最佳模型\n",
    "print(\"Best model found by TPOT:\")\n",
    "print(tpot.fitted_pipeline_)\n",
    "\n",
    "# 使用最佳模型在测试集上进行预测\n",
    "predictions = tpot.predict(X_test)\n",
    "\n",
    "# 计算测试集上的准确率\n",
    "accuracy = accuracy_score(y_test, predictions)\n",
    "print(f\"Accuracy on the test set: {accuracy:.4f}\")\n",
    "\n",
    "# 将预测结果保存到 CSV 文件\n",
    "test_df['predicted_species'] = predictions\n",
    "test_df.to_csv('./output/iris_test_predictions.csv', index=False)\n",
    "\n",
    "# 打印预测结果\n",
    "print(\"Predictions on the test set:\")\n",
    "print(test_df[['Species', 'predicted_species']].head())"
   ]
  }
 ],
 "metadata": {
  "kernelspec": {
   "display_name": "llama_factory_env",
   "language": "python",
   "name": "python3"
  },
  "language_info": {
   "codemirror_mode": {
    "name": "ipython",
    "version": 3
   },
   "file_extension": ".py",
   "mimetype": "text/x-python",
   "name": "python",
   "nbconvert_exporter": "python",
   "pygments_lexer": "ipython3",
   "version": "3.10.15"
  }
 },
 "nbformat": 4,
 "nbformat_minor": 2
}
